{
 "cells": [
  {
   "cell_type": "markdown",
   "id": "bbe0cd9e-b807-492e-beda-311ac2ebbccc",
   "metadata": {},
   "source": [
    "# Maximum Likelihood Estimation and Exoplanet Transits\n",
    "### 20250916 - ASTR 496: Foundations of Data Science in Astrophysics, Week 4\n",
    "Todays' colloquium speaker, Prof. Cristobal Petrovich, studies exoplanet systems and how they form, migrate, and get into configurations like we see today. To check that his models work of course, he does need to see existing exoplanet systems. The way we find many of these systems is using NASA's TESS satellite and looking for \"Transits\" - when the planet moves in front of the star it orbits along our line of sight, and causes the light from that star to dim. \n",
    "\n",
    "We're going to prep for this by seeing if you can analyze an exoplanet transit from TESS (sorta) with a model that you infer the parameters of using maximum likelihood."
   ]
  },
  {
   "cell_type": "code",
   "execution_count": null,
   "id": "812fa3b4-317d-47bf-9459-2b3cab1b555d",
   "metadata": {},
   "outputs": [],
   "source": [
    "import numpy as np\n",
    "import matplotlib.pyplot as plt\n",
    "from scipy.optimize import minimize\n",
    "from scipy.stats import norm\n",
    "import requests\n",
    "import io\n",
    "from astropy.io import fits\n",
    "from astropy.time import Time\n",
    "import warnings\n",
    "warnings.filterwarnings('ignore')"
   ]
  },
  {
   "cell_type": "code",
   "execution_count": null,
   "id": "6558174c-9c95-4144-b34e-4b35303d820a",
   "metadata": {},
   "outputs": [],
   "source": [
    "%matplotlib ipympl\n",
    "plt.style.use('seaborn-v0_8') #you don't need this - it just looks nicer IMO"
   ]
  },
  {
   "cell_type": "markdown",
   "id": "8c0bd650-cf59-4e38-a843-ea491f57c6fc",
   "metadata": {},
   "source": [
    "### First, if we are going to do maximum likelihood estimation, we are going to need some data \n",
    "### To do this, I'm going to give you a couple of functions - one to mock up the data\n",
    "### Another to plot it\n",
    "### After that, you are on your own - welcome to doing research\n",
    "### The prompts are going to tell you what I'd like you to do, but how you do it is up to you"
   ]
  },
  {
   "cell_type": "code",
   "execution_count": null,
   "id": "bf734f2e-f265-4617-be3a-91397e4f8ea5",
   "metadata": {},
   "outputs": [],
   "source": [
    "def download_tess_lightcurve(tic_id, sector):\n",
    "    \"\"\"\n",
    "    Fake download TESS lightcurve data from MAST archive\n",
    "    For this example, we'll simulate the download process and create realistic data instead\n",
    "    based on known transit parameters of TOI-715 \n",
    "    because when I'm doing this MAST is down for maintenance\n",
    "    \"\"\"\n",
    "    # In practice, you would actually use:\n",
    "    # from astroquery.mast import Observations\n",
    "    # obs_table = Observations.query_criteria(target_name=f\"TIC {tic_id}\", obs_collection=\"TESS\")\n",
    "\n",
    "    # For this demonstration, we'll create realistic synthetic data\n",
    "    # based on TOI-715 b parameters\n",
    "    print(f\"Simulating download of TIC {tic_id} data from TESS Sector {sector}\")\n",
    "\n",
    "    # Generate time array (TESS cadence is ~2 minutes)\n",
    "    t_start = 2458000  # BJD\n",
    "    duration = 27.4  # days (TESS sector length)\n",
    "    cadence = 2.0/60/24  # 2 minutes in days\n",
    "    time = np.arange(t_start, t_start + duration, cadence)\n",
    "\n",
    "    # Known parameters for TOI-715 b (approximately)\n",
    "    period = 19.28  # days\n",
    "    t0 = t_start + 5.0  # transit center\n",
    "    depth = 0.001  # transit depth (0.1%)\n",
    "    duration_hrs = 2.8  # transit duration in hours\n",
    "\n",
    "    # Generate synthetic lightcurve with realistic noise\n",
    "    flux = np.ones_like(time)\n",
    "\n",
    "    # Add transits\n",
    "    transit_duration = duration_hrs / 24  # convert to days\n",
    "    n_transits = int(duration / period) + 1\n",
    "\n",
    "    for i in range(n_transits):\n",
    "        tc = t0 + i * period\n",
    "        if tc < time[-1]:\n",
    "            # Simple box transit model\n",
    "            in_transit = np.abs(time - tc) < transit_duration/2\n",
    "            flux[in_transit] -= depth\n",
    "\n",
    "    # Add realistic noise\n",
    "    noise_level = 0.0002  # 200 ppm\n",
    "    flux += np.random.normal(0, noise_level, len(flux))\n",
    "\n",
    "    # Add some systematic trends (i.e. TESS artifacts - if you saw Zac Lane's journal club on Sep 15, 2025 you'll see this)\n",
    "    flux += 0.0001 * np.sin(2*np.pi*time/1.5)  # Instrument systematics\n",
    "\n",
    "    return time, flux"
   ]
  },
  {
   "cell_type": "code",
   "execution_count": null,
   "id": "003dff78-c51c-415d-bc4f-051f0cd78386",
   "metadata": {},
   "outputs": [],
   "source": [
    "# (Fake) Download data for TOI-715 (TIC 142748283)\n",
    "time, flux = download_tess_lightcurve(142748283, 42)\n",
    "print(f\"Downloaded {len(time)} data points\")\n",
    "print(f\"Time range: {time[0]:.1f} to {time[-1]:.1f} BJD\")"
   ]
  },
  {
   "cell_type": "code",
   "execution_count": null,
   "id": "5561fea3-0073-4f68-9d99-bb44100adf17",
   "metadata": {},
   "outputs": [],
   "source": [
    "def plot_lightcurve(time, flux, title=\"TESS Lightcurve\", plotstyle='ko', alpha=0.6, markersize=0.9, new=True):\n",
    "    \"\"\"Plot the full lightcurve\"\"\"\n",
    "    if new:\n",
    "        plt.figure()\n",
    "        \n",
    "    plt.plot(time - time[0], flux, plotstyle, alpha=alpha, markersize=markersize)\n",
    "    \n",
    "    if new:\n",
    "        plt.xlabel('Time since start (days)')\n",
    "        plt.ylabel('Relative TESS Flux')\n",
    "        plt.title(title)\n",
    "        plt.grid(True, alpha=0.3)\n",
    "        plt.tight_layout()\n"
   ]
  },
  {
   "cell_type": "code",
   "execution_count": null,
   "id": "873aa3ff-3f1a-4580-988a-fcadac666561",
   "metadata": {},
   "outputs": [],
   "source": [
    "plot_lightcurve(time, flux)"
   ]
  },
  {
   "cell_type": "markdown",
   "id": "7f98c419-619d-4751-9621-de6845920e14",
   "metadata": {},
   "source": [
    "### Again, if you were at journal club yesterday, you learned that TESS shows long-term systematics\n",
    "### where the relative flux normalization bounces around a little as the space\n",
    "### In our example, I mocked this up in the last line of code in the function\n",
    "### One thing you'll have to do frequently in astro is make your data robust against such effects\n",
    "### A simple way to do this is to \"detrend\" the data by median filtering it \n",
    "### i.e. replace the flux with the median of the flux in some window\n",
    "### you can use the `median_filter` function from scipy.ndimage but you should implement the filtering\n",
    "### Look particularly at the `size` argument to `median_filter` and ensure that it is always odd\n",
    "### regardless of the `window_size` argument"
   ]
  },
  {
   "cell_type": "code",
   "execution_count": null,
   "id": "3641b332-fd82-4638-b281-12da2cbd3c87",
   "metadata": {},
   "outputs": [],
   "source": [
    "def detrend_lightcurve(time, flux, window_size=1.0):\n",
    "    \"\"\"Simple detrending using median filtering\"\"\"\n",
    "    from scipy.ndimage import median_filter\n",
    "\n",
    "    ###### FILL THIS IN #####\n",
    "\n",
    "    return detrended_flux"
   ]
  },
  {
   "cell_type": "code",
   "execution_count": null,
   "id": "8d1f6747-2f7a-4455-8aec-98d5744871fb",
   "metadata": {},
   "outputs": [],
   "source": [
    "# Detrend the data and plot the detrended light curve and the difference between the detrended and original light curve\n",
    "# call the variable you return `flux_detrended`\n",
    "# try a window_size of 15 but you can also rerun this cell with different sizes\n",
    "\n",
    "flux_detrended = detrend_lightcurve(time, flux, window_size=15)\n",
    "plot_lightcurve(time, flux_detrended, \"Detrended TESS Lightcurve - TOI-715\", plotstyle='ko')\n",
    "plot_lightcurve(time, flux_detrended-flux,  \"Detrended TESS Lightcurve - TOI-715\", plotstyle='ko')"
   ]
  },
  {
   "cell_type": "markdown",
   "id": "031057a5-0999-4ef8-89bb-a091a5726762",
   "metadata": {},
   "source": [
    "### It is a good idea to get a sense for the noise in the data - since we didn't simulate errors on the measurements\n",
    "### we can look at the scatter of the observations - they're all close in time and fairly consistent with a baseline\n",
    "### so this is not a bad thing to do"
   ]
  },
  {
   "cell_type": "code",
   "execution_count": null,
   "id": "620e4791-8bc1-4a8f-a5e1-50c585139d60",
   "metadata": {},
   "outputs": [],
   "source": [
    "# Estimate noise level\n",
    "noise_estimate = np.std(flux_detrended)\n",
    "print(f\"Estimated noise level: {noise_estimate:.6f} ({noise_estimate*1e6:.0f} ppm)\")"
   ]
  },
  {
   "cell_type": "markdown",
   "id": "a74abea8-2d7d-497d-9841-afa48d7c104f",
   "metadata": {},
   "source": [
    "### Next we need a model\n",
    "### We'll adapt one from Mandel and Agol 2002 (https://ui.adsabs.harvard.edu/abs/2002ApJ...580L.171M/abstract)\n",
    "### This was largely work by my friend and colleague, Kaisey Mandel (https://www.ast.cam.ac.uk/people/kaisey.mandel) \n",
    "### ... who did this work as an undergraduate...  \n",
    "### so you can whine about the challenge here, from this particular problem\n",
    "### or you could have come up with the framework and been cited over 2000 times. "
   ]
  },
  {
   "cell_type": "code",
   "execution_count": null,
   "id": "0400e8e2-c839-4b60-b6ae-2ef6d901e868",
   "metadata": {},
   "outputs": [],
   "source": [
    "def transit_model(time, params):\n",
    "    \"\"\"\n",
    "    Simple analytical transit model (Mandel & Agol approximation for small planets)\n",
    "\n",
    "    Parameters:\n",
    "    - params[0]: t0 (transit center time)\n",
    "    - params[1]: period (orbital period)\n",
    "    - params[2]: depth (transit depth, (Rp/Rs)^2)\n",
    "    - params[3]: duration (transit duration in days)\n",
    "    - params[4]: baseline (out-of-transit flux level)\n",
    "    \"\"\"\n",
    "    t0, period, depth, duration, baseline = params\n",
    "\n",
    "    # Calculate phase\n",
    "    phase = ((time - t0) % period) / period\n",
    "    # Center phase around transit\n",
    "    phase = np.where(phase > 0.5, phase - 1, phase)\n",
    "\n",
    "    # Simple box model (can be replaced with more sophisticated models e.g. including limb darkening)\n",
    "    transit_width = duration / period / 2  # Half duration in phase units\n",
    "    in_transit = np.abs(phase) < transit_width\n",
    "\n",
    "    model_flux = np.full_like(time, baseline)\n",
    "    model_flux[in_transit] = baseline - depth\n",
    "\n",
    "    return model_flux"
   ]
  },
  {
   "cell_type": "markdown",
   "id": "29cf0059-bb4c-49e0-939e-1a6c70b6af5a",
   "metadata": {},
   "source": [
    "### So now you have the data, $D$, i.e. `time` and `detrended_flux`\n",
    "### and the model specified with the parameters, $\\theta$, i.e. `params`"
   ]
  },
  {
   "cell_type": "code",
   "execution_count": null,
   "id": "eb017ed7-d94d-421d-972b-b62e715541cc",
   "metadata": {},
   "outputs": [],
   "source": [
    "# Test the transit model - since I'm basing this example on TOI-715 b parameters, I can just plot the model\n",
    "test_params = [2458005.0, 19.28, 0.001, 2.8/24, 1.0]  # t0, period, depth, duration, baseline\n",
    "test_model = transit_model(time, test_params)\n",
    "\n",
    "plot_lightcurve(time, flux_detrended,\"Detrended TESS Lightcurve - TOI-715\", plotstyle='ko')\n",
    "plot_lightcurve(time, test_model, \"Detrended TESS Lightcurve - TOI-715\", plotstyle='r-', alpha=1.0, new=False)"
   ]
  },
  {
   "cell_type": "code",
   "execution_count": null,
   "id": "11a825d1-6e1a-41fa-83dd-9f087b77aa3c",
   "metadata": {},
   "outputs": [],
   "source": [
    "# You can also zoom in on first transit to get a closer look at the model e.g. \n",
    "plt.figure()\n",
    "transit_mask = np.abs(time - test_params[0]) < 0.2\n",
    "plt.plot(time[transit_mask] - time[0], flux_detrended[transit_mask], 'ko', markersize=2, label='Data')\n",
    "plt.plot(time[transit_mask] - time[0], test_model[transit_mask], 'r-', linewidth=2, label='Model')\n",
    "plt.xlabel('Time since start (days)')\n",
    "plt.ylabel('Relative Flux')\n",
    "plt.legend()\n",
    "plt.title('Zoomed Transit')\n",
    "plt.tight_layout()\n",
    "plt.show()"
   ]
  },
  {
   "cell_type": "markdown",
   "id": "ea52956f-c5c7-410f-a8c5-03b96206e66e",
   "metadata": {},
   "source": [
    "### Now the work begins\n",
    "### Assume that the uncertainties from TESS are Gaussian\n",
    "### Define a `log_likelihood` finction i.e. $-\\frac{1}{2}\\chi^2$ \n",
    "### (you may also wish to define the negative `log_likelihood` function for `scipy.optimize`)\n",
    "### Here, I am specifying the likelihood function and relating it to chi-squared, but rememeber you have some freedom here\n",
    "### While we aren't being fully Bayesian yet, it helps to define bounds for our optimizer - this is effectively a prior\n",
    "### Wrote down a `log_prior` function with some reasonable values \n",
    "### (remember you are the researcher - this is your experiment - you pick this)\n",
    "### Finally, define the `log_posterior` function (remember Bayes' theorem)"
   ]
  },
  {
   "cell_type": "code",
   "execution_count": null,
   "id": "1dbca36d-4ba3-422d-b627-48048bf4e823",
   "metadata": {},
   "outputs": [],
   "source": [
    "def log_likelihood(params, time, flux, flux_err=None):\n",
    "    \"\"\"\n",
    "    Calculate log-likelihood for transit model parameters\n",
    "    Assumes Gaussian errors\n",
    "    \"\"\"\n",
    "    ##### FILL THIS IN #####\n",
    "\n",
    "def neg_log_likelihood(params, time, flux, flux_err=None):\n",
    "    \"\"\"Negative log-likelihood for minimization\"\"\"\n",
    "    return -log_likelihood(params, time, flux, flux_err)\n",
    "\n",
    "def log_prior(params):\n",
    "    \"\"\"\n",
    "    Prior probability distributions for parameters\n",
    "    Assumes uniform priors within reasonable bounds\n",
    "    \"\"\"\n",
    "    t0, period, depth, duration, baseline = params\n",
    "    ##### FILL THIS IN #####\n",
    "    return 0  # Uniform prior (log(1) = 0)\n",
    "\n",
    "\n",
    "def log_posterior(params, time, flux, flux_err=None):\n",
    "    \"\"\"Log posterior probability\"\"\"\n",
    "    ##### This is a freebie but hey FILL THIS IN #####"
   ]
  },
  {
   "cell_type": "markdown",
   "id": "4f3f35cf-c12d-45f7-ac3f-d365e473af00",
   "metadata": {},
   "source": [
    "### Now, use `scipy.optimize.minimize` to solve for the maximum likelihood estimate \n",
    "### First use the `Nelder-Mead` method to get an initial solution fast with a maximum of 10,000 iterations\n",
    "### Then, using the results of this optimization, run the `L-BFGS-B` method to calculate the matrix of the second derivates at the minimum\n",
    "### This is called the \"Hessian\"\n",
    "### The sqrt of the diagonal elements on the inverse of the Hessian is your error estimates"
   ]
  },
  {
   "cell_type": "code",
   "execution_count": null,
   "id": "746ce00b-c4c9-49fd-8953-178abff7e7b8",
   "metadata": {},
   "outputs": [],
   "source": [
    "def find_mle_parameters(time, flux, initial_guess, flux_err=None):\n",
    "    \"\"\"\n",
    "    Find maximum likelihood estimates using scipy.optimize\n",
    "    \"\"\"\n",
    "    print(\"Starting MLE optimization...\")\n",
    "    print(f\"Initial guess: {initial_guess}\")\n",
    "\n",
    "    results = None\n",
    "    mle_params = None\n",
    "    # Use negative log-likelihood for minimization\n",
    "    ##### FILL THIS IN #####\n",
    "    # result = some function you call\n",
    "    # mle_params = result.x\n",
    "\n",
    "    param_errors = None\n",
    "    # Calculate uncertainties using the Hessian\n",
    "    ##### FILL THIS IN #####\n",
    "    # param_errors = some function you call \n",
    "\n",
    "    return mle_params, param_errors, result\n",
    "\n",
    "\n",
    "        "
   ]
  },
  {
   "cell_type": "code",
   "execution_count": null,
   "id": "c5ad46d6-9ef0-48ac-9e7b-44f5fb161533",
   "metadata": {},
   "outputs": [],
   "source": [
    "# I'll give you some initial guesses\n",
    "\n",
    "# Initial parameter guess based on visual inspection\n",
    "initial_params = [\n",
    "    2458005.0,  # t0 (transit center)\n",
    "    19.3,       # period (days)\n",
    "    0.001,      # depth\n",
    "    0.12,       # duration (days, ~2.8 hours)\n",
    "    1.0         # baseline\n",
    "]"
   ]
  },
  {
   "cell_type": "code",
   "execution_count": null,
   "id": "fecdbefd-9769-479d-b493-8352f5f97ce6",
   "metadata": {},
   "outputs": [],
   "source": [
    "# Run MLE optimization\n",
    "##### FILL THIS IN #####\n",
    "# mle_params, param_errors, result = something you call \n",
    "\n",
    "if mle_params is not None:\n",
    "    param_names = ['t0 (BJD)', 'Period (days)', 'Depth', 'Duration (days)', 'Baseline']\n",
    "\n",
    "    print(\"\\n\" + \"=\"*50)\n",
    "    print(\"MAXIMUM LIKELIHOOD ESTIMATION RESULTS\")\n",
    "    print(\"=\"*50)\n",
    "\n",
    "    for i, (name, value, error) in enumerate(zip(param_names, mle_params, param_errors)):\n",
    "        if np.isnan(error):\n",
    "            print(f\"{name:15s}: {value:10.6f}\")\n",
    "        else:\n",
    "            print(f\"{name:15s}: {value:10.6f} ± {error:10.6f}\")\n",
    "\n",
    "    print(f\"\\nLog-likelihood: {-result.fun:.2f}\")\n",
    "\n",
    "    # Calculate derived parameters\n",
    "    if mle_params[2] > 0:  # depth > 0\n",
    "        planet_radius_ratio = np.sqrt(mle_params[2])\n",
    "        print(f\"Planet/Star radius ratio: {planet_radius_ratio:.4f}\")"
   ]
  },
  {
   "cell_type": "markdown",
   "id": "a5d884d5-cb4d-4917-8eee-622cf961233e",
   "metadata": {},
   "source": [
    "### Plot the Best Fit Model and the light curve \n",
    "### Using the period you found, fold the light curve (you should know what this is from 310) \n",
    "### and plot the phase-folded light curve and model\n",
    "### Plot the residuals to the model \n",
    "### (you can use the `plot_lightcurve` function for all of these - this is why you use functions) "
   ]
  },
  {
   "cell_type": "code",
   "execution_count": null,
   "id": "80dc9fd9-6fbb-412b-a604-fa0c2b76505b",
   "metadata": {},
   "outputs": [],
   "source": [
    "def plot_results(time, flux, mle_params, title=\"MLE Fit Results\"):\n",
    "    \"\"\"Plot the data with best-fit model\"\"\"\n",
    "    residuals = None\n",
    "    #### first get the best fit model ####\n",
    "    # best_model = some function you call \n",
    "    #### then calculate the residuals \n",
    "    # residuals = fill this sin \n",
    "\n",
    "    #### Plot the light curve and hte model \n",
    "    ##### FILL THIS IN #####\n",
    "    \n",
    "    #### calculate and plot the phase-folded transit (skip if running low on time)\n",
    "    ##### FILL THIS IN #####\n",
    "    \n",
    "    #### Plot the Residuals\n",
    "    ##### FILL THIS IN #####\n",
    "    return residuals\n",
    "\n",
    "if mle_params is not None:\n",
    "    residuals = plot_results(time, flux_detrended, mle_params)"
   ]
  },
  {
   "cell_type": "markdown",
   "id": "3c26c26b-6148-4f2b-9112-9f0c85ff71d8",
   "metadata": {},
   "source": [
    "### Print the reduced chi-squared of the fit and if it is Good (< 1.5), Reasonable (< 3) or crap (>=3)"
   ]
  },
  {
   "cell_type": "code",
   "execution_count": null,
   "id": "3458a553-cdaa-4b65-9ced-86410284c010",
   "metadata": {},
   "outputs": [],
   "source": [
    "if mle_params is not None:\n",
    "\n",
    "    ##### FILL THIS IN #####"
   ]
  },
  {
   "cell_type": "markdown",
   "id": "8024399a-37c3-4b0d-864d-fd6839c8743d",
   "metadata": {},
   "source": [
    "### There is a way to get more robust errors using a process called Bootstrapping, which we will cover on Thursday\n",
    "### For now, if you can run the optimization, you should be able to get results that are useful\n",
    "### We know some of the parameters of the star TOI-715 (How? We'll you'll find out on your midterm!) \n",
    "### Here's a function that will take your results `mle_params` and a dictionary for the `stellar_properties` \n",
    "### And prints out physical properties\n",
    "### Note - These are simplified calculations. \n",
    "### Full analysis would require stellar parameters and limb darkening."
   ]
  },
  {
   "cell_type": "code",
   "execution_count": null,
   "id": "5daae4cc-9404-420d-a007-89c4d155f5f9",
   "metadata": {},
   "outputs": [],
   "source": [
    "def physical_interpretation(mle_params, stellar_properties=None):\n",
    "    \"\"\"\n",
    "    Convert fitted parameters to physical quantities\n",
    "    \"\"\"\n",
    "    t0, period, depth, duration, baseline = mle_params\n",
    "\n",
    "    print(\"\\n\" + \"=\"*60)\n",
    "    print(\"PHYSICAL INTERPRETATION OF RESULTS\")\n",
    "    print(\"=\"*60)\n",
    "\n",
    "    # Basic transit properties\n",
    "    print(f\"Orbital Period: {period:.3f} days ({period*24:.1f} hours)\")\n",
    "    print(f\"Transit Duration: {duration*24:.2f} hours\")\n",
    "    print(f\"Transit Depth: {depth:.6f} ({depth*100:.4f}%)\")\n",
    "\n",
    "    # Planet-to-star radius ratio\n",
    "    if depth > 0:\n",
    "        Rp_Rs = np.sqrt(depth)\n",
    "        print(f\"Planet/Star Radius Ratio (Rp/Rs): {Rp_Rs:.4f}\")\n",
    "\n",
    "        # If stellar radius is known, calculate planet radius\n",
    "        if stellar_properties and 'R_star' in stellar_properties:\n",
    "            R_star = stellar_properties['R_star']  # Solar radii\n",
    "            R_planet_jupiter = Rp_Rs * R_star * 9.73  # Jupiter radii (1 R_sun ≈ 9.73 R_jup)\n",
    "            R_planet_earth = R_planet_jupiter * 11.2  # Earth radii\n",
    "\n",
    "            print(f\"Planet Radius: {R_planet_jupiter:.2f} R_Jupiter\")\n",
    "            print(f\"Planet Radius: {R_planet_earth:.1f} R_Earth\")\n",
    "\n",
    "    # Impact parameter estimate (simplified)\n",
    "    if duration > 0 and period > 0:\n",
    "        # Approximate formula for circular orbit\n",
    "        a_Rs = ((period * 24 * 3600)**2 * 6.67e-11 * 1.989e30 / (4 * np.pi**2))**(1/3) / 6.96e8\n",
    "        if stellar_properties and 'M_star' in stellar_properties:\n",
    "            M_star = stellar_properties['M_star']  # Solar masses\n",
    "            a_Rs *= M_star**(1/3)\n",
    "\n",
    "        # Transit duration gives constraint on impact parameter\n",
    "        print(f\"Semi-major axis (approx): {a_Rs:.1f} R_star\")\n",
    "\n",
    "    \n",
    "\n",
    "# Example stellar properties for TOI-715\n",
    "stellar_props = {\n",
    "    'R_star': 0.64,  # Solar radii (M dwarf)\n",
    "    'M_star': 0.63   # Solar masses\n",
    "}\n",
    "\n",
    "if mle_params is not None:\n",
    "    physical_interpretation(mle_params, stellar_props)"
   ]
  }
 ],
 "metadata": {
  "kernelspec": {
   "display_name": "Python 3 (ipykernel)",
   "language": "python",
   "name": "python3"
  },
  "language_info": {
   "codemirror_mode": {
    "name": "ipython",
    "version": 3
   },
   "file_extension": ".py",
   "mimetype": "text/x-python",
   "name": "python",
   "nbconvert_exporter": "python",
   "pygments_lexer": "ipython3",
   "version": "3.10.9"
  }
 },
 "nbformat": 4,
 "nbformat_minor": 5
}
