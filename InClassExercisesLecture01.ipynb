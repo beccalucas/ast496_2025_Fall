{
 "cells": [
  {
   "cell_type": "markdown",
   "id": "c46f9598",
   "metadata": {},
   "source": [
    "NUMPY."
   ]
  },
  {
   "cell_type": "markdown",
   "id": "6e586392",
   "metadata": {},
   "source": [
    "1."
   ]
  },
  {
   "cell_type": "code",
   "execution_count": 2,
   "id": "6e08a211",
   "metadata": {},
   "outputs": [
    {
     "name": "stdout",
     "output_type": "stream",
     "text": [
      "1.3049019780144029\n",
      "757.525025877192\n",
      "10000000.0\n"
     ]
    }
   ],
   "source": [
    "import numpy as np\n",
    "A = np.logspace(-3,7,200).reshape(10,5,4)\n",
    "print(A[3,0,2])\n",
    "print(A[5,4,1])\n",
    "print(A[-1,-1,-1])"
   ]
  },
  {
   "cell_type": "code",
   "execution_count": 3,
   "id": "bcf6c963",
   "metadata": {},
   "outputs": [
    {
     "name": "stdout",
     "output_type": "stream",
     "text": [
      "[[-2  4  4  1]\n",
      " [ 4  4  2  0]\n",
      " [ 1  4 -4  4]\n",
      " [ 3  4 -9  4]]\n"
     ]
    }
   ],
   "source": [
    "B = np.array([[-2,8,10,1],[17,9,2,0],[1,6,-4,10],[3,8,-9,4]])\n",
    "B[B > 4] = 4\n",
    "print(B)"
   ]
  },
  {
   "cell_type": "code",
   "execution_count": 4,
   "id": "e15a5c50",
   "metadata": {},
   "outputs": [
    {
     "name": "stdout",
     "output_type": "stream",
     "text": [
      "[[1. 0. 1. 0. 1. 0. 1. 0. 1. 0.]\n",
      " [0. 0. 0. 0. 0. 0. 0. 0. 0. 0.]\n",
      " [1. 0. 1. 0. 1. 0. 1. 0. 1. 0.]\n",
      " [0. 0. 0. 0. 0. 0. 0. 0. 0. 0.]\n",
      " [1. 0. 1. 0. 1. 0. 1. 0. 1. 0.]\n",
      " [0. 0. 0. 0. 0. 0. 0. 0. 0. 0.]\n",
      " [1. 0. 1. 0. 1. 0. 1. 0. 1. 0.]\n",
      " [0. 0. 0. 0. 0. 0. 0. 0. 0. 0.]\n",
      " [1. 0. 1. 0. 1. 0. 1. 0. 1. 0.]\n",
      " [0. 0. 0. 0. 0. 0. 0. 0. 0. 0.]]\n"
     ]
    }
   ],
   "source": [
    "C = np.zeros((10,10))\n",
    "C[::2, ::2] = 1\n",
    "print(C)"
   ]
  },
  {
   "cell_type": "markdown",
   "id": "0b45ec41",
   "metadata": {},
   "source": [
    "2."
   ]
  },
  {
   "cell_type": "code",
   "execution_count": 7,
   "id": "9beb0d98",
   "metadata": {},
   "outputs": [],
   "source": [
    "import numpy.random as npr\n",
    "x = np.sort(npr.rand(100))\n",
    "y = np.sort(npr.rand(100))"
   ]
  },
  {
   "cell_type": "code",
   "execution_count": 9,
   "id": "48abc3f8",
   "metadata": {},
   "outputs": [],
   "source": [
    "xx,yy = np.meshgrid(x,y)\n",
    "z = np.exp(-(np.sqrt(xx)+ np.sqrt(yy))/(0.05))"
   ]
  },
  {
   "cell_type": "markdown",
   "id": "c0e69cca",
   "metadata": {},
   "source": [
    "MATPLOTLIB."
   ]
  },
  {
   "cell_type": "markdown",
   "id": "8314dd95",
   "metadata": {},
   "source": [
    "1."
   ]
  },
  {
   "cell_type": "code",
   "execution_count": null,
   "id": "3478577a",
   "metadata": {},
   "outputs": [],
   "source": []
  }
 ],
 "metadata": {
  "kernelspec": {
   "display_name": "astr496",
   "language": "python",
   "name": "python3"
  },
  "language_info": {
   "codemirror_mode": {
    "name": "ipython",
    "version": 3
   },
   "file_extension": ".py",
   "mimetype": "text/x-python",
   "name": "python",
   "nbconvert_exporter": "python",
   "pygments_lexer": "ipython3",
   "version": "3.13.5"
  }
 },
 "nbformat": 4,
 "nbformat_minor": 5
}
