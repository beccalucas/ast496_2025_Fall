{
 "cells": [
  {
   "cell_type": "markdown",
   "id": "f8d6d5a0-ad49-4043-a576-81510b5d66ca",
   "metadata": {},
   "source": [
    "## ASTR496: Foundations of Data Science in Astronomy\n",
    "Gautham Narayan\n",
    "gsn@illinois.edu\n",
    "\n",
    "### Midterm"
   ]
  },
  {
   "cell_type": "code",
   "execution_count": 1,
   "id": "b442fd44-b944-4352-8b9b-1c34952ccf71",
   "metadata": {
    "slideshow": {
     "slide_type": "fragment"
    }
   },
   "outputs": [],
   "source": [
    "# Q1: Maximum Likelihood Estimation for Stellar Parameters\n",
    "# Estimating Temperature and Extinction from Multi-band Photometry\n",
    "\n",
    "import numpy as np\n",
    "import matplotlib.pyplot as plt\n",
    "from scipy.optimize import minimize\n",
    "from scipy.interpolate import interp1d\n",
    "import pandas as pd\n",
    "from matplotlib import cm\n",
    "import warnings\n",
    "warnings.filterwarnings('ignore')\n",
    "\n",
    "# Set plotting style\n",
    "plt.style.use('seaborn-v0_8')\n",
    "plt.rcParams['figure.figsize'] = (12, 8)\n",
    "plt.rcParams['font.size'] = 12"
   ]
  },
  {
   "cell_type": "markdown",
   "id": "ee510da4-fcd2-4335-b1ad-9d5d4e7f5e51",
   "metadata": {},
   "source": [
    "#### **Problem Setup:**\n",
    "#### - We observe a star in multiple photometric bands (B, V, R, I, J, H, K)\n",
    "#### - We want to estimate: stellar temperature T and visual extinction A_V\n",
    "#### - We assume we know the distance from e.g. Gaia (or fit for it separately)\n",
    "####\n",
    "#### **Model:**\n",
    "#### For each filter λ, the observed magnitude is:\n",
    "####\n",
    "#### m_λ = M_λ(T) + 5*log₁₀(d/10) + A_V * R_λ\n",
    "####\n",
    "#### where:\n",
    "#### - M_λ(T) = absolute magnitude in filter λ for temperature T\n",
    "#### - d = distance in parsecs\n",
    "#### - A_V = visual extinction\n",
    "#### - R_λ = extinction coefficient for filter λ"
   ]
  },
  {
   "cell_type": "markdown",
   "id": "f736727d-fa50-46a7-b20f-b0f7b96d160e",
   "metadata": {},
   "source": [
    "### First, I have to give you a stellar model as a function of wavelength\n",
    "### We'll use a Planck function i.e. a blackbody"
   ]
  },
  {
   "cell_type": "code",
   "execution_count": null,
   "id": "21a55ea8-09b1-42f8-88b8-1cd87e4c07da",
   "metadata": {},
   "outputs": [],
   "source": [
    "def planck_function(wavelength, temperature):\n",
    "    \"\"\"\n",
    "    Planck function for blackbody radiation\n",
    "    wavelength in microns, temperature in Kelvin\n",
    "    Returns relative flux (arbitrary units)\n",
    "    \"\"\"\n",
    "    h = 6.626e-34  # Planck constant\n",
    "    c = 3e8        # Speed of light\n",
    "    k = 1.381e-23  # Boltzmann constant\n",
    "\n",
    "    wl_m = wavelength * 1e-6  # Convert to meters\n",
    "\n",
    "    # Planck function\n",
    "    numerator = 2 * h * c**2\n",
    "    denominator = wl_m**5 * (np.exp(h * c / (wl_m * k * temperature)) - 1)\n",
    "\n",
    "    return numerator / denominator"
   ]
  },
  {
   "cell_type": "markdown",
   "id": "2b6fed4c-640b-4e1e-bd57-351914ccf7d4",
   "metadata": {},
   "source": [
    "### Next we need to define a photometric system - we'll use the Johnson(-Morgan) Kron-Cousins UBVRI filters and the reddening coefficients \n",
    "### and JHK for the IR, largely because you can look up the filter's effective wavelengths $\\lambda_\\text{eff}$ in microns and the reddening coefficients from something like Cardelli-Clayton-Mathis '89."
   ]
  },
  {
   "cell_type": "code",
   "execution_count": null,
   "id": "b427d931-3df1-4621-ad18-9e72378ba651",
   "metadata": {},
   "outputs": [],
   "source": [
    "filters = {\n",
    "    'B': {'lambda_eff': 0.44, 'R_lambda': 4.1},   # Blue\n",
    "    'V': {'lambda_eff': 0.55, 'R_lambda': 3.1},   # Visual (reference)\n",
    "    'R': {'lambda_eff': 0.64, 'R_lambda': 2.7},   # Red\n",
    "    'I': {'lambda_eff': 0.79, 'R_lambda': 2.0},   # Near-IR\n",
    "    'J': {'lambda_eff': 1.25, 'R_lambda': 0.9},   # IR\n",
    "    'H': {'lambda_eff': 1.63, 'R_lambda': 0.6},   # IR\n",
    "    'K': {'lambda_eff': 2.19, 'R_lambda': 0.4}    # IR\n",
    "}"
   ]
  },
  {
   "cell_type": "code",
   "execution_count": 16,
   "id": "ced3f69b-fc19-4b91-9b5d-17b23c2a6aa2",
   "metadata": {},
   "outputs": [
    {
     "name": "stdout",
     "output_type": "stream",
     "text": [
      "Photometric filters: ['B', 'V', 'R', 'I', 'J', 'H', 'K']\n",
      "Effective wavelengths (μm): [0.44 0.55 0.64 0.79 1.25 1.63 2.19]\n",
      "Extinction coefficients R_λ: [4.1 3.1 2.7 2.  0.9 0.6 0.4]\n"
     ]
    }
   ],
   "source": [
    "# here are some quick arrays of the filters, wavelengths and reddening coefficients.\n",
    "filter_names = list(filters.keys())\n",
    "wavelengths = np.array([filters[f]['lambda_eff'] for f in filter_names])\n",
    "R_lambda = np.array([filters[f]['R_lambda'] for f in filter_names])\n",
    "\n",
    "print(f\"Photometric filters: {filter_names}\")\n",
    "print(f\"Effective wavelengths (μm): {wavelengths}\")\n",
    "print(f\"Extinction coefficients R_λ: {R_lambda}\")"
   ]
  },
  {
   "cell_type": "markdown",
   "id": "402c5fa4-937c-4eb5-9a9e-cc19e4ee87e5",
   "metadata": {},
   "source": [
    "### Next, we need to reate the magnitudes of a star, given the spectral model \n",
    "### While we are using the Planck function as an approximation, we'll tie the fluxes to the obsserved flux of the \n",
    "### Sun itself, with $T_\\text{eff}= 5778$K, and $M_V = 4.83$ (remember the absolute magnitude is defined for a distance of 10pc)."
   ]
  },
  {
   "cell_type": "code",
   "execution_count": null,
   "id": "84eb9e02-55c4-457f-9353-176541cfeadb",
   "metadata": {},
   "outputs": [],
   "source": [
    "# Create stellar atmosphere model\n",
    "def stellar_magnitude(temperature, filter_name, reference_temp=5778):\n",
    "    \"\"\"\n",
    "    Calculate absolute magnitude for a star of given temperature\n",
    "    Simplified model based on Planck function + calibration\n",
    "    \"\"\"\n",
    "    wl = filters[filter_name]['lambda_eff']\n",
    "\n",
    "    # Get flux ratio compared to solar temperature\n",
    "    flux_star = planck_function(wl, temperature)\n",
    "    flux_sun = planck_function(wl, reference_temp)\n",
    "    flux_ratio = flux_star / flux_sun\n",
    "\n",
    "    # Convert to magnitude difference (Sun has M_V = 4.83)\n",
    "    # Add wavelength-dependent correction for more realism\n",
    "    solar_magnitude = 4.83 + 0.5 * (wl - 0.55)  # Rough color correction\n",
    "\n",
    "    magnitude = solar_magnitude - 2.5 * np.log10(flux_ratio)\n",
    "\n",
    "    return magnitude"
   ]
  },
  {
   "cell_type": "markdown",
   "id": "c8fc997e-b3da-42dc-b65e-03f8d9a75079",
   "metadata": {},
   "source": [
    "### Q1. As a function of temperature (3000-10,000K in 1000K steps) determine the B-V color"
   ]
  },
  {
   "cell_type": "code",
   "execution_count": 17,
   "id": "7920121b-340a-4e57-bf6d-2d0c478ad196",
   "metadata": {},
   "outputs": [],
   "source": [
    "### YOUR ANSWER HERE"
   ]
  },
  {
   "cell_type": "markdown",
   "id": "1c666900-1129-44e8-84d9-21b39cb57114",
   "metadata": {},
   "source": [
    "### Next, I'll give you the \"Truth\" and some synthetic stellar data, with the true magnitudes of this star in each band using my `stellar_magnitude` but with the reddening and distance correction applied (you're going to have to do this)"
   ]
  },
  {
   "cell_type": "code",
   "execution_count": 32,
   "id": "315fb6e4-5180-472e-a041-c15205d93481",
   "metadata": {},
   "outputs": [],
   "source": [
    "# Generate a test star\n",
    "TRUE_TEMP = 6500  # K\n",
    "TRUE_A_V = 0.8    # magnitudes\n",
    "TRUE_DISTANCE = 100    # parsecs\n",
    "\n",
    "\n",
    "synthetic_star =  {'B': {'magnitude': 12.379, 'error': 0.02, 'true_magnitude': 12.369},\n",
    "                   'V': {'magnitude': 11.752, 'error': 0.03, 'true_magnitude': 11.756},\n",
    "                   'R': {'magnitude': 11.579, 'error': 0.04, 'true_magnitude': 11.553},\n",
    "                   'I': {'magnitude': 11.225, 'error': 0.05, 'true_magnitude': 11.149},\n",
    "                   'J': {'magnitude': 10.602, 'error': 0.06, 'true_magnitude': 10.616},\n",
    "                   'H': {'magnitude': 10.592, 'error': 0.07, 'true_magnitude': 10.609},\n",
    "                   'K': {'magnitude': 10.888, 'error': 0.08, 'true_magnitude': 10.762}}"
   ]
  },
  {
   "cell_type": "markdown",
   "id": "af07312b-c279-469e-9095-13f3fde10b03",
   "metadata": {},
   "source": [
    "### Q2.  \n",
    "### OK, you know the drill \n",
    "### define a function that gives you the model magnitudes of the star given the temperature, extinction and distance\n",
    "### define the log-likelihood\n",
    "### Use `scipy.optimize` to get the best fit parameters for this star using maximum likelihood estimation\n",
    "### Calculate the goodness of fit i.e. reduced chi-squared\n",
    "### Calculate the Inverse Hessian Matrix and report the simple uncertainties on each parameter\n",
    "### Which parameters are correlated strongly?"
   ]
  },
  {
   "cell_type": "code",
   "execution_count": 35,
   "id": "57618a60-4e90-4019-bfb7-943b66364eca",
   "metadata": {},
   "outputs": [],
   "source": [
    "# Initial guess\n",
    "initial_guess = [5500, 0.5, 75]  # Temperature, A_V, Distance\n",
    "\n",
    "\n",
    "### YOUR ANSWER HERE"
   ]
  },
  {
   "cell_type": "markdown",
   "id": "c0097b65-2638-436a-8a71-d43e51e723fa",
   "metadata": {},
   "source": [
    "### Q3.\n",
    "\n",
    "### It is worth remembering the difference between Monte Carlo and Markov Chain Monte Carlo\n",
    "### Using the same true parameters provided to you with Q2, generate 1000 random stars with the same true values, but different random seeds\n",
    "### Repeat your analysis in Q2 for each of these 1000 stars, saving the results\n",
    "### Use the results from this Monte Carlo process to determine a more robust uncertainty estimate, and measure the mean bias (i.e. how far are you from the truth) in parameter recovery"
   ]
  },
  {
   "cell_type": "code",
   "execution_count": null,
   "id": "18eac7f9-d8d3-4313-a275-1dcf452d17d2",
   "metadata": {},
   "outputs": [],
   "source": [
    "### YOUR ANSWER HERE"
   ]
  },
  {
   "cell_type": "markdown",
   "id": "00b68e65-eb6d-437c-9985-82e3aa80fa99",
   "metadata": {},
   "source": [
    "### Q4. \n",
    "\n",
    "### Finally, try this problem with a Markov Chain Monte Carlo but this time, incorporating a prior on the distance of 98 +/- 5 pc from synthetic Gaia, but repeating the anaysis three times - once with all filters, next with RIJHK and then with BVRIJ only.\n",
    "\n",
    "#### Make reasonable choices for the number of walkers, steps, thinning etc. It's your responsibility to ensure the posteriors are well sampled.\n",
    "\n",
    "### Show corner plots for all three cases in the same figure (you can try the `ChainConsumer` package)\n",
    "\n",
    "### How do these results compare, and what happens to the extinction and temperature with fewer bands, and in the case of all filters, with your answer from Q2/Q3. "
   ]
  },
  {
   "cell_type": "code",
   "execution_count": null,
   "id": "6ada0bfd-42a2-43d0-a149-887048c47ce8",
   "metadata": {},
   "outputs": [],
   "source": [
    "### YOUR ANSWER HERE"
   ]
  }
 ],
 "metadata": {
  "kernelspec": {
   "display_name": "Python [conda env:astr496]",
   "language": "python",
   "name": "conda-env-astr496-py"
  },
  "language_info": {
   "codemirror_mode": {
    "name": "ipython",
    "version": 3
   },
   "file_extension": ".py",
   "mimetype": "text/x-python",
   "name": "python",
   "nbconvert_exporter": "python",
   "pygments_lexer": "ipython3",
   "version": "3.13.7"
  }
 },
 "nbformat": 4,
 "nbformat_minor": 5
}
